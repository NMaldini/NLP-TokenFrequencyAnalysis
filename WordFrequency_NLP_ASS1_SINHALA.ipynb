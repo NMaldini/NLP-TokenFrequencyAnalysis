{
  "nbformat": 4,
  "nbformat_minor": 0,
  "metadata": {
    "colab": {
      "name": "WordFrequency_NLP_ASS1_SINHALA.ipynb",
      "provenance": []
    },
    "kernelspec": {
      "name": "python3",
      "display_name": "Python 3"
    },
    "language_info": {
      "name": "python"
    }
  },
  "cells": [
    {
      "cell_type": "code",
      "metadata": {
        "colab": {
          "base_uri": "https://localhost:8080/"
        },
        "id": "M5o_OXjMelpP",
        "outputId": "d937a7d5-375a-4e22-ed31-c27714f64d6a"
      },
      "source": [
        "#import google drive files\n",
        "from google.colab import drive\n",
        "drive.mount('/content/gdrive')"
      ],
      "execution_count": 1,
      "outputs": [
        {
          "output_type": "stream",
          "text": [
            "Mounted at /content/gdrive\n"
          ],
          "name": "stdout"
        }
      ]
    },
    {
      "cell_type": "code",
      "metadata": {
        "id": "i1VypVGteDZn",
        "colab": {
          "base_uri": "https://localhost:8080/"
        },
        "outputId": "6fb02049-2123-44b8-b992-39aa929c8272"
      },
      "source": [
        "import nltk\n",
        "nltk.download('punkt')\n",
        "from nltk.tokenize import word_tokenize\n"
      ],
      "execution_count": 54,
      "outputs": [
        {
          "output_type": "stream",
          "text": [
            "[nltk_data] Downloading package punkt to /root/nltk_data...\n",
            "[nltk_data]   Package punkt is already up-to-date!\n"
          ],
          "name": "stdout"
        }
      ]
    },
    {
      "cell_type": "code",
      "metadata": {
        "colab": {
          "base_uri": "https://localhost:8080/"
        },
        "id": "pEqhfbGlheF6",
        "outputId": "75093168-36b5-423f-f72b-3c6497104058"
      },
      "source": [
        "\n",
        "document_text = open('/content/gdrive/MyDrive/Colab Notebooks/sinhala_test.txt', 'r')\n",
        "corpus = document_text.read()\n",
        "print(corpus)"
      ],
      "execution_count": 55,
      "outputs": [
        {
          "output_type": "stream",
          "text": [
            "අමාත්‍යාංශ කටයුතු මෙහෙයවීමට වාසුදේව නානායක්කාර මැතිතුමා ගරු ජාතික භාෂා හා සමාජ ඒකාබද්ධතා අමාත්‍යවරයා ලෙසද , පලනි තිගම්බරම් මැතිතුමා ගරු ජාතික භාෂා හා සමාජ ඒකාබද්ධතා නියෝජ්‍ය අමාත්‍යවරයා ලෙස ද එම් . එස් . වික්‍රමසිංහ මිය අමාත්‍යාංශ ලේකම් ලෙස පත් කරන ලදි .\n",
            "මෙම අමාත්‍යාංශය අංක40 , බුත්ගමුවපාර , රාජගිරිය යන ස්ථානයේ පිහිටා ඇත .\n",
            "ජාතික භාෂා හා සමාජ ඒකාබද්ධතා අමාත්‍යාංශයේ බලතල හා කාර්යයන්\n"
          ],
          "name": "stdout"
        }
      ]
    },
    {
      "cell_type": "code",
      "metadata": {
        "colab": {
          "base_uri": "https://localhost:8080/"
        },
        "id": "O8ASYI1-gl-k",
        "outputId": "29d596b3-1258-4c16-eed3-302ee852f048"
      },
      "source": [
        "corpus_tokens = word_tokenize(corpus)\n",
        "print(corpus_tokens)"
      ],
      "execution_count": 56,
      "outputs": [
        {
          "output_type": "stream",
          "text": [
            "['අමාත්\\u200dයාංශ', 'කටයුතු', 'මෙහෙයවීමට', 'වාසුදේව', 'නානායක්කාර', 'මැතිතුමා', 'ගරු', 'ජාතික', 'භාෂා', 'හා', 'සමාජ', 'ඒකාබද්ධතා', 'අමාත්\\u200dයවරයා', 'ලෙසද', ',', 'පලනි', 'තිගම්බරම්', 'මැතිතුමා', 'ගරු', 'ජාතික', 'භාෂා', 'හා', 'සමාජ', 'ඒකාබද්ධතා', 'නියෝජ්\\u200dය', 'අමාත්\\u200dයවරයා', 'ලෙස', 'ද', 'එම්', '.', 'එස්', '.', 'වික්\\u200dරමසිංහ', 'මිය', 'අමාත්\\u200dයාංශ', 'ලේකම්', 'ලෙස', 'පත්', 'කරන', 'ලදි', '.', 'මෙම', 'අමාත්\\u200dයාංශය', 'අංක40', ',', 'බුත්ගමුවපාර', ',', 'රාජගිරිය', 'යන', 'ස්ථානයේ', 'පිහිටා', 'ඇත', '.', 'ජාතික', 'භාෂා', 'හා', 'සමාජ', 'ඒකාබද්ධතා', 'අමාත්\\u200dයාංශයේ', 'බලතල', 'හා', 'කාර්යයන්']\n"
          ],
          "name": "stdout"
        }
      ]
    },
    {
      "cell_type": "code",
      "metadata": {
        "id": "p_Gb8BR_qIeb"
      },
      "source": [
        "from nltk.util import ngrams\n",
        "from nltk.tokenize import sent_tokenize, word_tokenize\n",
        "from nltk.collocations import *"
      ],
      "execution_count": 65,
      "outputs": []
    },
    {
      "cell_type": "code",
      "metadata": {
        "colab": {
          "base_uri": "https://localhost:8080/"
        },
        "id": "KjiIqFygqJvS",
        "outputId": "526c4ec9-4638-48a7-fde9-1fd46f8d7bd7"
      },
      "source": [
        "bigrams = ngrams(corpus_tokens, 2)\n",
        "\n",
        "bigrams_c = {}\n",
        "for b in bigrams:\n",
        "    if b not in bigrams_c:\n",
        "        bigrams_c[b] = 1\n",
        "    else:\n",
        "        bigrams_c[b] += 1\n",
        "\n",
        "print(bigrams_c)"
      ],
      "execution_count": 70,
      "outputs": [
        {
          "output_type": "stream",
          "text": [
            "{('අමාත්\\u200dයාංශ', 'කටයුතු'): 1, ('කටයුතු', 'මෙහෙයවීමට'): 1, ('මෙහෙයවීමට', 'වාසුදේව'): 1, ('වාසුදේව', 'නානායක්කාර'): 1, ('නානායක්කාර', 'මැතිතුමා'): 1, ('මැතිතුමා', 'ගරු'): 2, ('ගරු', 'ජාතික'): 2, ('ජාතික', 'භාෂා'): 3, ('භාෂා', 'හා'): 3, ('හා', 'සමාජ'): 3, ('සමාජ', 'ඒකාබද්ධතා'): 3, ('ඒකාබද්ධතා', 'අමාත්\\u200dයවරයා'): 1, ('අමාත්\\u200dයවරයා', 'ලෙසද'): 1, ('ලෙසද', ','): 1, (',', 'පලනි'): 1, ('පලනි', 'තිගම්බරම්'): 1, ('තිගම්බරම්', 'මැතිතුමා'): 1, ('ඒකාබද්ධතා', 'නියෝජ්\\u200dය'): 1, ('නියෝජ්\\u200dය', 'අමාත්\\u200dයවරයා'): 1, ('අමාත්\\u200dයවරයා', 'ලෙස'): 1, ('ලෙස', 'ද'): 1, ('ද', 'එම්'): 1, ('එම්', '.'): 1, ('.', 'එස්'): 1, ('එස්', '.'): 1, ('.', 'වික්\\u200dරමසිංහ'): 1, ('වික්\\u200dරමසිංහ', 'මිය'): 1, ('මිය', 'අමාත්\\u200dයාංශ'): 1, ('අමාත්\\u200dයාංශ', 'ලේකම්'): 1, ('ලේකම්', 'ලෙස'): 1, ('ලෙස', 'පත්'): 1, ('පත්', 'කරන'): 1, ('කරන', 'ලදි'): 1, ('ලදි', '.'): 1, ('.', 'මෙම'): 1, ('මෙම', 'අමාත්\\u200dයාංශය'): 1, ('අමාත්\\u200dයාංශය', 'අංක40'): 1, ('අංක40', ','): 1, (',', 'බුත්ගමුවපාර'): 1, ('බුත්ගමුවපාර', ','): 1, (',', 'රාජගිරිය'): 1, ('රාජගිරිය', 'යන'): 1, ('යන', 'ස්ථානයේ'): 1, ('ස්ථානයේ', 'පිහිටා'): 1, ('පිහිටා', 'ඇත'): 1, ('ඇත', '.'): 1, ('.', 'ජාතික'): 1, ('ඒකාබද්ධතා', 'අමාත්\\u200dයාංශයේ'): 1, ('අමාත්\\u200dයාංශයේ', 'බලතල'): 1, ('බලතල', 'හා'): 1, ('හා', 'කාර්යයන්'): 1}\n"
          ],
          "name": "stdout"
        }
      ]
    },
    {
      "cell_type": "code",
      "metadata": {
        "colab": {
          "base_uri": "https://localhost:8080/"
        },
        "id": "a5PZXSmWnzyY",
        "outputId": "e7382abe-c56e-4471-e850-3fe0d264418b"
      },
      "source": [
        "import operator\n",
        "sorted_d = dict( sorted(bigrams_c.items(), key=operator.itemgetter(1),reverse=True))\n",
        "print('Dictionary in descending order by value : ',sorted_d.values())"
      ],
      "execution_count": 74,
      "outputs": [
        {
          "output_type": "stream",
          "text": [
            "Dictionary in descending order by value :  dict_values([3, 3, 3, 3, 2, 2, 1, 1, 1, 1, 1, 1, 1, 1, 1, 1, 1, 1, 1, 1, 1, 1, 1, 1, 1, 1, 1, 1, 1, 1, 1, 1, 1, 1, 1, 1, 1, 1, 1, 1, 1, 1, 1, 1, 1, 1, 1, 1, 1, 1, 1])\n"
          ],
          "name": "stdout"
        }
      ]
    },
    {
      "cell_type": "code",
      "metadata": {
        "id": "QEKc1U6ttfJn"
      },
      "source": [
        ""
      ],
      "execution_count": 89,
      "outputs": []
    },
    {
      "cell_type": "code",
      "metadata": {
        "colab": {
          "base_uri": "https://localhost:8080/"
        },
        "id": "vv_QHGW5uH9S",
        "outputId": "3bd29211-00a1-45cf-b47e-cfd127a2599a"
      },
      "source": [
        "values_view = sorted_d.values()\n",
        "value_iterator = iter(values_view)\n",
        "first_value = next(value_iterator)\n",
        "\n",
        "print(first_value)\n"
      ],
      "execution_count": 90,
      "outputs": [
        {
          "output_type": "stream",
          "text": [
            "3\n"
          ],
          "name": "stdout"
        }
      ]
    },
    {
      "cell_type": "code",
      "metadata": {
        "colab": {
          "base_uri": "https://localhost:8080/"
        },
        "id": "zKgkESxvtxuF",
        "outputId": "b6f04c7f-c933-455d-eb1d-f9de8f0a51e6"
      },
      "source": [
        "rank_dict ={\"Rank\":[],\"Freq\":[]}\n",
        "rank = 1\n",
        "highest = first_value\n",
        "for b in sorted_d.values():\n",
        "  if b == highest:\n",
        "    rank_dict[\"Rank\"].append(rank)\n",
        "  else:\n",
        "    rank=rank+1\n",
        "    rank_dict[\"Rank\"].append(rank)\n",
        "    highest = b\n",
        "\n",
        "  rank_dict[\"Freq\"].append(b)\n",
        "\n",
        "\n",
        "print(rank_dict)"
      ],
      "execution_count": 96,
      "outputs": [
        {
          "output_type": "stream",
          "text": [
            "{'Rank': [1, 1, 1, 1, 2, 2, 3, 3, 3, 3, 3, 3, 3, 3, 3, 3, 3, 3, 3, 3, 3, 3, 3, 3, 3, 3, 3, 3, 3, 3, 3, 3, 3, 3, 3, 3, 3, 3, 3, 3, 3, 3, 3, 3, 3, 3, 3, 3, 3, 3, 3], 'Freq': [3, 3, 3, 3, 2, 2, 1, 1, 1, 1, 1, 1, 1, 1, 1, 1, 1, 1, 1, 1, 1, 1, 1, 1, 1, 1, 1, 1, 1, 1, 1, 1, 1, 1, 1, 1, 1, 1, 1, 1, 1, 1, 1, 1, 1, 1, 1, 1, 1, 1, 1]}\n"
          ],
          "name": "stdout"
        }
      ]
    },
    {
      "cell_type": "code",
      "metadata": {
        "id": "3Et-3kfIzXMa"
      },
      "source": [
        "rank_dict[\"Rank\"]\n",
        "#rank_dict[\"Freq\"]"
      ],
      "execution_count": null,
      "outputs": []
    },
    {
      "cell_type": "code",
      "metadata": {
        "colab": {
          "base_uri": "https://localhost:8080/",
          "height": 265
        },
        "id": "LYI5QK_HzXvD",
        "outputId": "1fe9ee39-cf91-4c09-c801-fc9e16fdeaa5"
      },
      "source": [
        "import matplotlib.pyplot as plt\n",
        "import numpy as np\n",
        "\n",
        "xpoints = np.array(rank_dict[\"Rank\"])\n",
        "ypoints = np.array(rank_dict[\"Freq\"])\n",
        "\n",
        "plt.plot(xpoints, ypoints)\n",
        "plt.show()"
      ],
      "execution_count": 100,
      "outputs": [
        {
          "output_type": "display_data",
          "data": {
            "image/png": "[encoded data removed]",
            "text/plain": [
              "<Figure size 432x288 with 1 Axes>"
            ]
          },
          "metadata": {
            "tags": [],
            "needs_background": "light"
          }
        }
      ]
    }
  ]
}