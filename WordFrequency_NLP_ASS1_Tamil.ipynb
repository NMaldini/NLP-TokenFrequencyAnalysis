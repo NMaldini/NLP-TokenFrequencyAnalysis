{
  "nbformat": 4,
  "nbformat_minor": 0,
  "metadata": {
    "colab": {
      "name": "WordFrequency_NLP_ASS1_Tamil.ipynb",
      "provenance": []
    },
    "kernelspec": {
      "name": "python3",
      "display_name": "Python 3"
    },
    "language_info": {
      "name": "python"
    }
  },
  "cells": [
    {
      "cell_type": "code",
      "metadata": {
        "colab": {
          "base_uri": "https://localhost:8080/"
        },
        "id": "M5o_OXjMelpP",
        "outputId": "d937a7d5-375a-4e22-ed31-c27714f64d6a"
      },
      "source": [
        "#import google drive files\n",
        "from google.colab import drive\n",
        "drive.mount('/content/gdrive')"
      ],
      "execution_count": 1,
      "outputs": [
        {
          "output_type": "stream",
          "text": [
            "Mounted at /content/gdrive\n"
          ],
          "name": "stdout"
        }
      ]
    },
    {
      "cell_type": "code",
      "metadata": {
        "id": "i1VypVGteDZn",
        "colab": {
          "base_uri": "https://localhost:8080/"
        },
        "outputId": "6fb02049-2123-44b8-b992-39aa929c8272"
      },
      "source": [
        "import nltk\n",
        "nltk.download('punkt')\n",
        "from nltk.tokenize import word_tokenize\n"
      ],
      "execution_count": 54,
      "outputs": [
        {
          "output_type": "stream",
          "text": [
            "[nltk_data] Downloading package punkt to /root/nltk_data...\n",
            "[nltk_data]   Package punkt is already up-to-date!\n"
          ],
          "name": "stdout"
        }
      ]
    },
    {
      "cell_type": "code",
      "metadata": {
        "colab": {
          "base_uri": "https://localhost:8080/"
        },
        "id": "pEqhfbGlheF6",
        "outputId": "b831e183-ff60-40c8-f90e-8a8869ebc334"
      },
      "source": [
        "\n",
        "document_text = open('/content/gdrive/MyDrive/Colab Notebooks/tamil_test.txt', 'r')\n",
        "corpus = document_text.read()\n",
        "print(corpus)"
      ],
      "execution_count": 101,
      "outputs": [
        {
          "output_type": "stream",
          "text": [
            "அமைச்சின் பணிகளை முன்னெடுப்பதற்கு கௌர அமைச்சர் வாசுதேவ நாணாயக்கார அவர்களுக்கு தத்துவம் வழங்கப்பட்டதுடன் திருமதி எம் . எஸ் . விக்கிரமசிங்க அமைச்சின் செயலாளராக செயலாற்றுகிறார் .\n",
            "இவ்வமைச்சு இல 40 , புத்கமுவ வீதி , இராஜகிரிய எனும் முகவரியில் அமையப்பெற்றுள்ளது .\n",
            "தேசிய மொழிகள் மற்றும் சமூக ஒருமைப்பாட்டு அமைச்சின் அதிகாரங்கள் மற்றும் செயற்பாடுகள்\n",
            " தேசிய மொழிகள் , சமூக ஒருமைப்பாடு தொடர்பான கொள்கைகள் நிகழ்ச்சித் திட்டங்களையும் கருத்திட்டங்களையும் வகுத்தமைத்தல் .\n",
            " குறித்த தேசிய நோக்கங்களை எய்தும் பொருட்டு தேசிய திட்டமிடல் அதிகாரிகளுடன் உடன்பட்ட செயற்பாட்டு எல்லைகுள்ளும் வரவு செலவுத் திட்டத்தில் அடங்கப்பெற்ற வளங்களை விஞ்சாதவாறும் சொல்லப்பட்ட கொள்கைகளையும் நிகழ்ச்சித்திட்டங்களையும் கருத்திட்டங்களையும் செயற்படுத்தலும் நெறிப்படுத்தலும் .\n",
            " தேசிய மொழிக் கொள்கையை வகுத்தமைத்தல் , செயற்படுத்துதலுடன் தொடர்பான அலுவல்கள் .\n",
            " சமூக ஒருமைப்பாடும் இனங்களுடனான அலுவல்களும் ; .\n"
          ],
          "name": "stdout"
        }
      ]
    },
    {
      "cell_type": "code",
      "metadata": {
        "colab": {
          "base_uri": "https://localhost:8080/"
        },
        "id": "O8ASYI1-gl-k",
        "outputId": "08199764-47b3-4cf4-9a8b-b1f87fab465b"
      },
      "source": [
        "corpus_tokens = word_tokenize(corpus)\n",
        "print(corpus_tokens)"
      ],
      "execution_count": 102,
      "outputs": [
        {
          "output_type": "stream",
          "text": [
            "['அமைச்சின்', 'பணிகளை', 'முன்னெடுப்பதற்கு', 'கௌர', 'அமைச்சர்', 'வாசுதேவ', 'நாணாயக்கார', 'அவர்களுக்கு', 'தத்துவம்', 'வழங்கப்பட்டதுடன்', 'திருமதி', 'எம்', '.', 'எஸ்', '.', 'விக்கிரமசிங்க', 'அமைச்சின்', 'செயலாளராக', 'செயலாற்றுகிறார்', '.', 'இவ்வமைச்சு', 'இல', '40', ',', 'புத்கமுவ', 'வீதி', ',', 'இராஜகிரிய', 'எனும்', 'முகவரியில்', 'அமையப்பெற்றுள்ளது', '.', 'தேசிய', 'மொழிகள்', 'மற்றும்', 'சமூக', 'ஒருமைப்பாட்டு', 'அமைச்சின்', 'அதிகாரங்கள்', 'மற்றும்', 'செயற்பாடுகள்', '\\uf0b7', 'தேசிய', 'மொழிகள்', ',', 'சமூக', 'ஒருமைப்பாடு', 'தொடர்பான', 'கொள்கைகள்', 'நிகழ்ச்சித்', 'திட்டங்களையும்', 'கருத்திட்டங்களையும்', 'வகுத்தமைத்தல்', '.', '\\uf0b7', 'குறித்த', 'தேசிய', 'நோக்கங்களை', 'எய்தும்', 'பொருட்டு', 'தேசிய', 'திட்டமிடல்', 'அதிகாரிகளுடன்', 'உடன்பட்ட', 'செயற்பாட்டு', 'எல்லைகுள்ளும்', 'வரவு', 'செலவுத்', 'திட்டத்தில்', 'அடங்கப்பெற்ற', 'வளங்களை', 'விஞ்சாதவாறும்', 'சொல்லப்பட்ட', 'கொள்கைகளையும்', 'நிகழ்ச்சித்திட்டங்களையும்', 'கருத்திட்டங்களையும்', 'செயற்படுத்தலும்', 'நெறிப்படுத்தலும்', '.', '\\uf0b7', 'தேசிய', 'மொழிக்', 'கொள்கையை', 'வகுத்தமைத்தல்', ',', 'செயற்படுத்துதலுடன்', 'தொடர்பான', 'அலுவல்கள்', '.', '\\uf0b7', 'சமூக', 'ஒருமைப்பாடும்', 'இனங்களுடனான', 'அலுவல்களும்', ';', '.']\n"
          ],
          "name": "stdout"
        }
      ]
    },
    {
      "cell_type": "code",
      "metadata": {
        "id": "p_Gb8BR_qIeb"
      },
      "source": [
        "from nltk.util import ngrams\n",
        "from nltk.tokenize import sent_tokenize, word_tokenize\n",
        "from nltk.collocations import *"
      ],
      "execution_count": 103,
      "outputs": []
    },
    {
      "cell_type": "code",
      "metadata": {
        "colab": {
          "base_uri": "https://localhost:8080/"
        },
        "id": "KjiIqFygqJvS",
        "outputId": "98f030df-ee45-4149-e702-86f4316a6206"
      },
      "source": [
        "bigrams = ngrams(corpus_tokens, 1)\n",
        "\n",
        "bigrams_c = {}\n",
        "for b in bigrams:\n",
        "    if b not in bigrams_c:\n",
        "        bigrams_c[b] = 1\n",
        "    else:\n",
        "        bigrams_c[b] += 1\n",
        "\n",
        "print(bigrams_c)"
      ],
      "execution_count": 105,
      "outputs": [
        {
          "output_type": "stream",
          "text": [
            "{('அமைச்சின்',): 3, ('பணிகளை',): 1, ('முன்னெடுப்பதற்கு',): 1, ('கௌர',): 1, ('அமைச்சர்',): 1, ('வாசுதேவ',): 1, ('நாணாயக்கார',): 1, ('அவர்களுக்கு',): 1, ('தத்துவம்',): 1, ('வழங்கப்பட்டதுடன்',): 1, ('திருமதி',): 1, ('எம்',): 1, ('.',): 8, ('எஸ்',): 1, ('விக்கிரமசிங்க',): 1, ('செயலாளராக',): 1, ('செயலாற்றுகிறார்',): 1, ('இவ்வமைச்சு',): 1, ('இல',): 1, ('40',): 1, (',',): 4, ('புத்கமுவ',): 1, ('வீதி',): 1, ('இராஜகிரிய',): 1, ('எனும்',): 1, ('முகவரியில்',): 1, ('அமையப்பெற்றுள்ளது',): 1, ('தேசிய',): 5, ('மொழிகள்',): 2, ('மற்றும்',): 2, ('சமூக',): 3, ('ஒருமைப்பாட்டு',): 1, ('அதிகாரங்கள்',): 1, ('செயற்பாடுகள்',): 1, ('\\uf0b7',): 4, ('ஒருமைப்பாடு',): 1, ('தொடர்பான',): 2, ('கொள்கைகள்',): 1, ('நிகழ்ச்சித்',): 1, ('திட்டங்களையும்',): 1, ('கருத்திட்டங்களையும்',): 2, ('வகுத்தமைத்தல்',): 2, ('குறித்த',): 1, ('நோக்கங்களை',): 1, ('எய்தும்',): 1, ('பொருட்டு',): 1, ('திட்டமிடல்',): 1, ('அதிகாரிகளுடன்',): 1, ('உடன்பட்ட',): 1, ('செயற்பாட்டு',): 1, ('எல்லைகுள்ளும்',): 1, ('வரவு',): 1, ('செலவுத்',): 1, ('திட்டத்தில்',): 1, ('அடங்கப்பெற்ற',): 1, ('வளங்களை',): 1, ('விஞ்சாதவாறும்',): 1, ('சொல்லப்பட்ட',): 1, ('கொள்கைகளையும்',): 1, ('நிகழ்ச்சித்திட்டங்களையும்',): 1, ('செயற்படுத்தலும்',): 1, ('நெறிப்படுத்தலும்',): 1, ('மொழிக்',): 1, ('கொள்கையை',): 1, ('செயற்படுத்துதலுடன்',): 1, ('அலுவல்கள்',): 1, ('ஒருமைப்பாடும்',): 1, ('இனங்களுடனான',): 1, ('அலுவல்களும்',): 1, (';',): 1}\n"
          ],
          "name": "stdout"
        }
      ]
    },
    {
      "cell_type": "code",
      "metadata": {
        "colab": {
          "base_uri": "https://localhost:8080/"
        },
        "id": "a5PZXSmWnzyY",
        "outputId": "2ffc8ba5-135c-4a9d-cc13-d391c71e2a36"
      },
      "source": [
        "import operator\n",
        "sorted_d = dict( sorted(bigrams_c.items(), key=operator.itemgetter(1),reverse=True))\n",
        "print('Dictionary in descending order by value : ',sorted_d.values())"
      ],
      "execution_count": 106,
      "outputs": [
        {
          "output_type": "stream",
          "text": [
            "Dictionary in descending order by value :  dict_values([8, 5, 4, 4, 3, 3, 2, 2, 2, 2, 2, 1, 1, 1, 1, 1, 1, 1, 1, 1, 1, 1, 1, 1, 1, 1, 1, 1, 1, 1, 1, 1, 1, 1, 1, 1, 1, 1, 1, 1, 1, 1, 1, 1, 1, 1, 1, 1, 1, 1, 1, 1, 1, 1, 1, 1, 1, 1, 1, 1, 1, 1, 1, 1, 1, 1, 1, 1, 1, 1])\n"
          ],
          "name": "stdout"
        }
      ]
    },
    {
      "cell_type": "code",
      "metadata": {
        "id": "QEKc1U6ttfJn"
      },
      "source": [
        ""
      ],
      "execution_count": 89,
      "outputs": []
    },
    {
      "cell_type": "code",
      "metadata": {
        "colab": {
          "base_uri": "https://localhost:8080/"
        },
        "id": "vv_QHGW5uH9S",
        "outputId": "be103d5f-87c3-4f43-9725-4d584e362b44"
      },
      "source": [
        "values_view = sorted_d.values()\n",
        "value_iterator = iter(values_view)\n",
        "first_value = next(value_iterator)\n",
        "\n",
        "print(first_value)\n"
      ],
      "execution_count": 107,
      "outputs": [
        {
          "output_type": "stream",
          "text": [
            "8\n"
          ],
          "name": "stdout"
        }
      ]
    },
    {
      "cell_type": "code",
      "metadata": {
        "colab": {
          "base_uri": "https://localhost:8080/"
        },
        "id": "zKgkESxvtxuF",
        "outputId": "6adefacf-5b00-4045-df2a-295e25938931"
      },
      "source": [
        "rank_dict ={\"Rank\":[],\"Freq\":[]}\n",
        "rank = 1\n",
        "highest = first_value\n",
        "for b in sorted_d.values():\n",
        "  if b == highest:\n",
        "    rank_dict[\"Rank\"].append(rank)\n",
        "  else:\n",
        "    rank=rank+1\n",
        "    rank_dict[\"Rank\"].append(rank)\n",
        "    highest = b\n",
        "\n",
        "  rank_dict[\"Freq\"].append(b)\n",
        "\n",
        "\n",
        "print(rank_dict)"
      ],
      "execution_count": 108,
      "outputs": [
        {
          "output_type": "stream",
          "text": [
            "{'Rank': [1, 2, 3, 3, 4, 4, 5, 5, 5, 5, 5, 6, 6, 6, 6, 6, 6, 6, 6, 6, 6, 6, 6, 6, 6, 6, 6, 6, 6, 6, 6, 6, 6, 6, 6, 6, 6, 6, 6, 6, 6, 6, 6, 6, 6, 6, 6, 6, 6, 6, 6, 6, 6, 6, 6, 6, 6, 6, 6, 6, 6, 6, 6, 6, 6, 6, 6, 6, 6, 6], 'Freq': [8, 5, 4, 4, 3, 3, 2, 2, 2, 2, 2, 1, 1, 1, 1, 1, 1, 1, 1, 1, 1, 1, 1, 1, 1, 1, 1, 1, 1, 1, 1, 1, 1, 1, 1, 1, 1, 1, 1, 1, 1, 1, 1, 1, 1, 1, 1, 1, 1, 1, 1, 1, 1, 1, 1, 1, 1, 1, 1, 1, 1, 1, 1, 1, 1, 1, 1, 1, 1, 1]}\n"
          ],
          "name": "stdout"
        }
      ]
    },
    {
      "cell_type": "code",
      "metadata": {
        "id": "3Et-3kfIzXMa"
      },
      "source": [
        "#rank_dict[\"Rank\"]\n",
        "rank_dict[\"Freq\"]"
      ],
      "execution_count": null,
      "outputs": []
    },
    {
      "cell_type": "code",
      "metadata": {
        "colab": {
          "base_uri": "https://localhost:8080/",
          "height": 265
        },
        "id": "LYI5QK_HzXvD",
        "outputId": "7cb6d5d6-97e8-4cce-ddad-268730b69725"
      },
      "source": [
        "import matplotlib.pyplot as plt\n",
        "import numpy as np\n",
        "\n",
        "xpoints = np.array(rank_dict[\"Rank\"])\n",
        "ypoints = np.array(rank_dict[\"Freq\"])\n",
        "\n",
        "plt.plot(xpoints, ypoints)\n",
        "plt.show()"
      ],
      "execution_count": 110,
      "outputs": [
        {
          "output_type": "display_data",
          "data": {
            "image/png": "[encoded data removed]",
            "text/plain": [
              "<Figure size 432x288 with 1 Axes>"
            ]
          },
          "metadata": {
            "tags": [],
            "needs_background": "light"
          }
        }
      ]
    }
  ]
}